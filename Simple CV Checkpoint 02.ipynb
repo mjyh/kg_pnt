{
 "cells": [
  {
   "cell_type": "code",
   "execution_count": 1,
   "metadata": {
    "collapsed": false
   },
   "outputs": [],
   "source": [
    "%matplotlib inline"
   ]
  },
  {
   "cell_type": "code",
   "execution_count": 31,
   "metadata": {
    "collapsed": false
   },
   "outputs": [],
   "source": [
    "import os\n",
    "import random\n",
    "import numpy as np\n",
    "import pandas as pd\n",
    "from PIL import Image\n",
    "import time\n",
    "import pickle\n",
    "from sklearn.externals import joblib\n",
    "#from matplotlib import pyplot as plt\n",
    "\n",
    "#import networkx as nx\n",
    "#from networkx.utils import cuthill_mckee_ordering\n",
    "\n",
    "from sklearn.ensemble import RandomForestClassifier\n",
    "from sklearn.metrics import roc_auc_score  \n",
    "\n",
    "import skimage.data\n",
    "import skimage.exposure\n",
    "\n",
    "import matplotlib.pyplot as plt\n",
    "#import matplotlib.image\n",
    "\n",
    "#from skimage import imread"
   ]
  },
  {
   "cell_type": "code",
   "execution_count": null,
   "metadata": {
    "collapsed": true
   },
   "outputs": [],
   "source": []
  },
  {
   "cell_type": "markdown",
   "metadata": {},
   "source": [
    "## make pairs"
   ]
  },
  {
   "cell_type": "code",
   "execution_count": 2,
   "metadata": {
    "collapsed": false
   },
   "outputs": [],
   "source": [
    "def make_pairs(train_info):\n",
    "    artists = train_info.artist.unique()\n",
    "\n",
    "    n = train_info.groupby('artist').size()\n",
    "    n = (2*n**2).sum() \n",
    "    t = pd.DataFrame(np.zeros((n, 4)), columns=['artist1', 'image1', 'artist2', 'image2'])\n",
    "    i = 0\n",
    "    j = 0\n",
    "    for artist in artists:\n",
    "\n",
    "        #artist info is Ax2 matrix of artist, filename\n",
    "        artistInfo = train_info[train_info.artist==artist][['artist', 'filename']].values\n",
    "        \n",
    "        use = train_info[train_info.artist != artist ].index.values\n",
    "        np.random.shuffle(use)\n",
    "        \n",
    "        #nm = np.min([a.shape[0]**2, train_info[train_info.artist != m].shape[0] ])\n",
    "        numExamples = np.min([len(artistInfo)**2, sum(train_info.artist != artist) ])\n",
    "        use = use[0:numExamples]\n",
    "        \n",
    "        #diffArtistInfo a Bx2 matrix of artist, filename\n",
    "        diffArtistInfo = train_info[train_info.artist!=artist][['artist', 'filename']].ix[use, :].values\n",
    "\n",
    "        \n",
    "        toAdd_SameArtist = pd.DataFrame(np.concatenate([  np.repeat(artistInfo[:, 0], len(artistInfo)).reshape((-1,1)), #artist\n",
    "                                            np.repeat(artistInfo[:, 1],\n",
    "                                            artistInfo.shape[0]).reshape((-1,1)),\n",
    "                                            np.tile(artistInfo, (len(artistInfo), 1))],\n",
    "                                         axis=1),\n",
    "                          columns=['artist1', 'image1', 'artist2', 'image2'])\n",
    "        toAdd_SameArtist = toAdd_SameArtist.loc[0:numExamples, :]\n",
    "        \n",
    "        toAdd_DiffArtist = pd.DataFrame(np.concatenate([np.tile(artistInfo,\n",
    "                                                  (len(artistInfo), 1))[0:len(diffArtistInfo), :],\n",
    "                                          diffArtistInfo], axis=1),\n",
    "                          columns=['artist1', 'image1', 'artist2', 'image2'])\n",
    "        toAdd_DiffArtist = toAdd_DiffArtist.loc[0:numExamples, :]\n",
    "        \n",
    "        #print(j, i, a2.shape[0], b2.shape[0])\n",
    "        #print(b2)\n",
    "        t.iloc[i:i+len(toAdd_SameArtist), :] = toAdd_SameArtist.values\n",
    "        t.iloc[i+len(toAdd_SameArtist):i+len(toAdd_SameArtist)+len(toAdd_DiffArtist), :] = toAdd_DiffArtist.values\n",
    "        \n",
    "        i += len(toAdd_SameArtist) + len(toAdd_DiffArtist)\n",
    "        j += 1\n",
    "        if j%100==0:\n",
    "            print('finished %s of %s artists'%(j, len(artists)))\n",
    "\n",
    "    print('make pairs completed')\n",
    "    t = t[~t.image2.isin([np.nan, 0])]\n",
    "    return t[t.image1 > t.image2]"
   ]
  },
  {
   "cell_type": "markdown",
   "metadata": {},
   "source": [
    "## Get Image Info"
   ]
  },
  {
   "cell_type": "code",
   "execution_count": 3,
   "metadata": {
    "collapsed": true
   },
   "outputs": [],
   "source": [
    "def get_image_info(test_info, mydir):\n",
    "    if mydir == r'/data/test_data/test':\n",
    "        images = list(set(list(test_info.image1.unique()) + list(test_info.image2.unique())))\n",
    "        info = pd.DataFrame(np.array(images).reshape((-1, 1)), columns = ['filename'])\n",
    "    else:\n",
    "        info = test_info\n",
    "    \n",
    "    info['pixelsx'] = np.nan\n",
    "    info['pixelsy'] = np.nan\n",
    "    info['size_bytes'] = np.nan\n",
    "    info['r_mean'] = np.nan\n",
    "    info['r_med'] = np.nan\n",
    "    info['r_std'] = np.nan\n",
    "    info['g_mean'] = np.nan\n",
    "    info['g_med'] = np.nan\n",
    "    info['g_std'] = np.nan\n",
    "    info['b_mean'] = np.nan\n",
    "    info['b_med'] = np.nan\n",
    "    info['b_std'] = np.nan\n",
    "    \n",
    "    for ind, i in enumerate(info.index.values):\n",
    "        try:\n",
    "            #im = Image.open(mydir+'/'+info.loc[i, 'filename'])\n",
    "            im = skimage.data.imread(r\"/data/training_data/train/95847.jpg\")\n",
    "            info.loc[i, 'pixelsx'] = im.\n",
    "            info.loc[i, 'pixelsy'] = im.size\n",
    "            r_mean = \n",
    "            #im = cv2.imread(dir+'/'+info.loc[i, 'new_filename'])\n",
    "            #info.loc[i, 'pixelsx'], info.loc[i, 'pixelsy'] = im.shape[0:2]\n",
    "            info.loc[i, 'size_bytes'] = os.path.getsize(mydir+'/'+info.loc[i, 'filename']) \n",
    "            if ind%10000==0:\n",
    "                print('finished %s of %s'%(ind, len(info)))\n",
    "        except:\n",
    "            print(mydir+'/'+info.loc[i, 'filename'])\n",
    "        \n",
    "    return info.rename(columns={'filename' : 'new_filename'})"
   ]
  },
  {
   "cell_type": "code",
   "execution_count": 3,
   "metadata": {
    "collapsed": false
   },
   "outputs": [],
   "source": [
    "im = skimage.data.imread(r\"/data/training_data/train/95847.jpg\")\n",
    "#plt.imshow(im)\n",
    "\n",
    "hist_r = skimage.exposure.histogram(im[:,:,0])\n",
    "hist_g = skimage.exposure.histogram(im[:,:,1])\n",
    "hist_b = skimage.exposure.histogram(im[:,:,2])\n",
    "\n",
    "r_mean = im[:,:,0].mean()\n",
    "g_mean = im[:,:,1].mean()\n",
    "b_mean = im[:,:,2].mean()\n",
    "r_med = np.median(im[:,:,0])\n",
    "g_med = np.median(im[:,:,1])\n",
    "b_med = np.median(im[:,:,2])\n",
    "r_std = im[:,:,0].std()\n",
    "g_bar = im[:,:,1].std()\n",
    "b_var = im[:,:,2].std()"
   ]
  },
  {
   "cell_type": "code",
   "execution_count": 35,
   "metadata": {
    "collapsed": false
   },
   "outputs": [],
   "source": [
    "im = skimage.data.imread(r\"/data/training_data/train/95847.jpg\")"
   ]
  },
  {
   "cell_type": "code",
   "execution_count": 37,
   "metadata": {
    "collapsed": false
   },
   "outputs": [
    {
     "data": {
      "text/plain": [
       "1108800"
      ]
     },
     "execution_count": 37,
     "metadata": {},
     "output_type": "execute_result"
    }
   ],
   "source": [
    "im.size"
   ]
  },
  {
   "cell_type": "markdown",
   "metadata": {
    "collapsed": false
   },
   "source": [
    "## Prep Data"
   ]
  },
  {
   "cell_type": "code",
   "execution_count": 4,
   "metadata": {
    "collapsed": false
   },
   "outputs": [],
   "source": [
    "#x_train, y_train, x_cv, y_cv = prep_data([train_info, None], 'cv')    \n",
    "#x_test, y_test = prep_data([None, submission_info], 'test')    \n",
    "def prep_data(input_info, split):\n",
    "    orig_info = input_info[0]\n",
    "    data = input_info[1]\n",
    "    \n",
    "    if split=='cv':\n",
    "        artists = info.artist.unique()\n",
    "        np.random.shuffle(artists)\n",
    "        \n",
    "        info = get_image_info(orig_info, r'/data/training_data/train')\n",
    "        info['bytes_per_pixel'] = 1.0*info['size_bytes']/(info['pixelsx']*info['pixelsy'])\n",
    "        info['aspect_ratio'] = 1.0*info['pixelsx']/info['pixelsy']\n",
    "        train_artists = artists[0:int(0.8*len(artists))]\n",
    "        test_artists = artists[int(0.8*len(artists)):]    \n",
    "        \n",
    "        train = make_pairs(info[info.artist.isin(train_artists)])\n",
    "        test = make_pairs(info[info.artist.isin(test_artists)])\n",
    "        train['in_train'] = True\n",
    "        test['in_train'] = False\n",
    "        data = train.append(test)\n",
    "        data['sameArtist'] = data['artist1'] == data['artist2']\n",
    "        \n",
    "    if split=='test':\n",
    "\n",
    "        info = get_image_info(data, r'/data/test_data/test')\n",
    "        info['bytes_per_pixel'] = 1.0*info['size_bytes']/(info['pixelsx']*info['pixelsy'])\n",
    "        info['aspect_ratio'] = 1.0*info['pixelsx']/info['pixelsy']\n",
    "        \n",
    "        data['in_train'] = False\n",
    "    \n",
    "        if 'artist1' in data.columns:\n",
    "            data['sameArtist'] = data['artist1'] == data['artist2']\n",
    "\n",
    "    \n",
    "    data2 = pd.merge(data, info[['new_filename', 'pixelsx', 'pixelsy', 'size_bytes', 'bytes_per_pixel', 'aspect_ratio']], how='left', left_on='image1', right_on='new_filename')\n",
    "    data2.drop('new_filename', 1, inplace=True)\n",
    "    \n",
    "    data2 = pd.merge(data2, info[['new_filename', 'pixelsx', 'pixelsy', 'size_bytes', 'bytes_per_pixel', 'aspect_ratio']], how='left', left_on='image2', right_on='new_filename')\n",
    "    data2.drop('new_filename', 1, inplace=True)\n",
    "    \n",
    "    x_train = data2[data2.in_train==True][['pixelsx_x', 'pixelsy_x', 'size_bytes_x', 'bytes_per_pixel_x', 'aspect_ratio_x', 'pixelsx_y', 'pixelsy_y', 'size_bytes_y', 'bytes_per_pixel_y', 'aspect_ratio_y']].values\n",
    "    x_test = data2[data2.in_train==False][['pixelsx_x', 'pixelsy_x', 'size_bytes_x', 'bytes_per_pixel_x', 'aspect_ratio_x', 'pixelsx_y', 'pixelsy_y', 'size_bytes_y', 'bytes_per_pixel_y', 'aspect_ratio_y']].values\n",
    "    \n",
    "    \n",
    "    if 'artist1' in data.columns: \n",
    "        y_train = data2[data2.in_train==True]['sameArtist'].values\n",
    "        y_test = data2[data2.in_train==False]['sameArtist'].values\n",
    "    else:\n",
    "        y_test = None    \n",
    "    \n",
    "    if split=='cv':        \n",
    "        return x_train, y_train, x_test, y_test  \n",
    "    if split=='test':\n",
    "        return x_test, y_test"
   ]
  },
  {
   "cell_type": "markdown",
   "metadata": {},
   "source": [
    "## Train classifier"
   ]
  },
  {
   "cell_type": "code",
   "execution_count": 5,
   "metadata": {
    "collapsed": false
   },
   "outputs": [],
   "source": [
    "def train_classifier(x_train, y_train, x_cv, y_cv):    \n",
    "    clf = RandomForestClassifier(n_estimators=100, min_samples_split=50, max_depth=8)\n",
    "    \n",
    "    \n",
    "    #clf = xgb.XGBClassifier(n_estimators=10000, learning_rate=0.025, max_depth=4)\n",
    "    print('starting fit')\n",
    "    #excluding the patient_id column from the fit and prediction\n",
    "    clf.fit(x_train[::5], y_train[::5])\n",
    "    print('starting pred')\n",
    "    \n",
    "    y_pred = np.zeros(x_cv.shape[0])\n",
    "    for i in xrange(4):\n",
    "        y_pred[i::4] = clf.predict_proba(x_cv[i::4])[:,1] \n",
    "    \n",
    "    if not y_cv is None:\n",
    "        print(roc_auc_score(y_cv, y_pred))\n",
    "    \n",
    "    return y_pred, clf"
   ]
  },
  {
   "cell_type": "markdown",
   "metadata": {},
   "source": [
    "## Main"
   ]
  },
  {
   "cell_type": "code",
   "execution_count": 6,
   "metadata": {
    "collapsed": false
   },
   "outputs": [],
   "source": [
    "def make_submission():\n",
    "    train_info = pd.read_csv(r'/data/training_data/train_info.csv')\n",
    "    submission_info = pd.read_csv(r'/data/test_data/submission_info.csv')\n",
    "    print('prepping training and cv data')\n",
    "    x_train, y_train, x_cv, y_cv = prep_data([train_info, None], 'cv')    \n",
    "    print('prepping test data')\n",
    "    x_test, y_test = prep_data([None, submission_info], 'test')    \n",
    "    \n",
    "    print('starting classifier')\n",
    "    y_pred, clf = train_classifier(x_train, y_train, x_test, y_test) \n",
    "\n",
    "    submission = submission_info[['index']]\n",
    "    submission['sameArtist'] = y_pred\n",
    "    submission.to_csv('submission.csv', index=False)"
   ]
  },
  {
   "cell_type": "markdown",
   "metadata": {},
   "source": [
    "## Fetch training pairs, image info"
   ]
  },
  {
   "cell_type": "code",
   "execution_count": 7,
   "metadata": {
    "collapsed": false,
    "scrolled": true
   },
   "outputs": [],
   "source": [
    "#load training info\n",
    "train_image_info = pd.read_csv(r'/data/training_data/train_info.csv')\n",
    "submission_info = pd.read_csv(r'/data/test_data/submission_info.csv')\n",
    "\n",
    "#make training pairs\n",
    "#train_pairs = make_pairs(train_image_info)\n",
    "#train_pairs[ 'sameArtist' ] = train_pairs[ 'artist1' ] == train_pairs[ 'artist2' ]\n",
    "\n",
    "#save as csv\n",
    "#train_pairs.to_csv(r'/data/training_data/train_pairs.csv')\n",
    "\n",
    "#load pairs\n",
    "train_pairs = pd.read_csv(r'/data/training_data/train_pairs.csv', index_col = 0)"
   ]
  },
  {
   "cell_type": "markdown",
   "metadata": {},
   "source": [
    "## Create/save/load training features"
   ]
  },
  {
   "cell_type": "code",
   "execution_count": 8,
   "metadata": {
    "collapsed": false
   },
   "outputs": [],
   "source": [
    "#get raw training data features\n",
    "#raw_train_image_info = get_image_info(train_image_info, r'/data/training_data/train')\n",
    "#raw_train_image_info['bytes_per_pixel'] =raw_train_image_info['size_bytes']/(raw_train_image_info['pixelsx']*raw_train_image_info['pixelsy'])\n",
    "#raw_train_image_info['aspect_ratio'] = raw_train_image_info['pixelsx']/raw_train_image_info['pixelsy']\n",
    "\n",
    "#save raw_train_image_info\n",
    "#raw_train_image_info.to_csv(r'/data/training_data/raw_train_image_info.csv')\n",
    "\n",
    "#load raw_train_image_info\n",
    "raw_train_image_info = pd.read_csv(r'/data/training_data/raw_train_image_info.csv', index_col = 0)\n",
    "\n",
    "\n"
   ]
  },
  {
   "cell_type": "markdown",
   "metadata": {},
   "source": [
    "## Join training features to training pairs"
   ]
  },
  {
   "cell_type": "code",
   "execution_count": 9,
   "metadata": {
    "collapsed": true
   },
   "outputs": [],
   "source": [
    "#join pair data to image features\n",
    "raw_train_trimmed_image_info = raw_train_image_info[['new_filename',\n",
    "                                                      'pixelsx',\n",
    "                                                      'pixelsy',\n",
    "                                                      'bytes_per_pixel',\n",
    "                                                      'aspect_ratio']]\n",
    "train_pairs = train_pairs.merge(raw_train_trimmed_image_info,\n",
    "                                left_on='image1', right_on='new_filename')\n",
    "train_pairs.rename( columns = {'pixelsx': 'pixelsx_1',\n",
    "                    'pixelsy': 'pixelsy_1',\n",
    "                    'bytes_per_pixel' : 'bytes_per_pixel_1',\n",
    "                    'aspect_ratio':'aspect_ratio_1'},\n",
    "                      inplace=True)\n",
    "train_pairs = train_pairs.merge(raw_train_trimmed_image_info,\n",
    "                                left_on='image2', right_on='new_filename')\n",
    "train_pairs.rename( columns = {'pixelsx': 'pixelsx_2',\n",
    "                    'pixelsy': 'pixelsy_2',\n",
    "                    'bytes_per_pixel' : 'bytes_per_pixel_2',\n",
    "                    'aspect_ratio':'aspect_ratio_2'},\n",
    "                      inplace=True)"
   ]
  },
  {
   "cell_type": "markdown",
   "metadata": {},
   "source": [
    "## 80/20 CV"
   ]
  },
  {
   "cell_type": "code",
   "execution_count": 11,
   "metadata": {
    "collapsed": false
   },
   "outputs": [],
   "source": [
    "\n",
    "### perform 80/20 cross-validation\n",
    "\n",
    "# declare X columns\n",
    "base_columns = [ 'pixelsx',\n",
    "            'pixelsy',\n",
    "            'bytes_per_pixel',\n",
    "            'aspect_ratio']\n",
    "\n",
    "X_columns = [ col+'_1' for col in base_columns] + [ col+'_2' for col in base_columns]\n",
    "\n",
    "# shuffle rows\n",
    "train_pairs = train_pairs.iloc[np.random.permutation(len(train_pairs))]\n",
    "\n",
    "#split pair data into train and test\n",
    "foldSize = int(len(train_pairs)/5)\n",
    "\n",
    "CV_pairs_train = train_pairs.iloc[0:4*foldSize]\n",
    "CV_pairs_test = train_pairs.iloc[4*foldSize:len(train_pairs)]\n",
    "\n",
    "#set up Xs\n",
    "CV_train_X = CV_pairs_train[X_columns]\n",
    "CV_test_X = CV_pairs_test[X_columns]\n",
    "\n",
    "#set up Ys\n",
    "CV_train_Y = CV_pairs_train['sameArtist']\n",
    "CV_test_Y = CV_pairs_test['sameArtist']\n",
    "\n"
   ]
  },
  {
   "cell_type": "markdown",
   "metadata": {},
   "source": [
    "# CV Training/Test"
   ]
  },
  {
   "cell_type": "code",
   "execution_count": 19,
   "metadata": {
    "collapsed": false
   },
   "outputs": [
    {
     "name": "stdout",
     "output_type": "stream",
     "text": [
      "starting fit\n",
      "total training time: 22.007388\n"
     ]
    },
    {
     "ename": "NameError",
     "evalue": "name 'pred' is not defined",
     "output_type": "error",
     "traceback": [
      "\u001b[1;31m\u001b[0m",
      "\u001b[1;31mNameError\u001b[0mTraceback (most recent call last)",
      "\u001b[1;32m<ipython-input-19-ca0b1de2ac8b>\u001b[0m in \u001b[0;36m<module>\u001b[1;34m()\u001b[0m\n\u001b[0;32m     18\u001b[0m \u001b[0mpred_test\u001b[0m \u001b[1;33m=\u001b[0m \u001b[0mclf\u001b[0m\u001b[1;33m.\u001b[0m\u001b[0mpredict_proba\u001b[0m\u001b[1;33m(\u001b[0m\u001b[0mCV_test_X\u001b[0m\u001b[1;33m)\u001b[0m\u001b[1;33m[\u001b[0m\u001b[1;33m:\u001b[0m\u001b[1;33m,\u001b[0m\u001b[1;36m1\u001b[0m\u001b[1;33m]\u001b[0m\u001b[1;33m\u001b[0m\u001b[0m\n\u001b[0;32m     19\u001b[0m \u001b[1;33m\u001b[0m\u001b[0m\n\u001b[1;32m---> 20\u001b[1;33m \u001b[0mtest_roc\u001b[0m \u001b[1;33m=\u001b[0m \u001b[0mroc_auc_score\u001b[0m\u001b[1;33m(\u001b[0m\u001b[0mCV_test_Y\u001b[0m\u001b[1;33m.\u001b[0m\u001b[0mvalues\u001b[0m\u001b[1;33m,\u001b[0m \u001b[0mpred\u001b[0m\u001b[1;33m)\u001b[0m\u001b[1;33m\u001b[0m\u001b[0m\n\u001b[0m\u001b[0;32m     21\u001b[0m \u001b[1;33m\u001b[0m\u001b[0m\n\u001b[0;32m     22\u001b[0m \u001b[0mprint\u001b[0m\u001b[1;33m(\u001b[0m\u001b[1;34m'training roc : %s'\u001b[0m \u001b[1;33m%\u001b[0m \u001b[0mtraining_roc\u001b[0m\u001b[1;33m)\u001b[0m\u001b[1;33m\u001b[0m\u001b[0m\n",
      "\u001b[1;31mNameError\u001b[0m: name 'pred' is not defined"
     ]
    }
   ],
   "source": [
    "clf = RandomForestClassifier(n_estimators=100, min_samples_split=50, max_depth=8 )\n",
    "\n",
    "start = time.clock()\n",
    "\n",
    "#clf = xgb.XGBClassifier(n_estimators=10000, learning_rate=0.025, max_depth=4)\n",
    "print('starting fit')\n",
    "#excluding the patient_id column from the fit and prediction\n",
    "clf.fit(CV_train_X[0:200000], CV_train_Y[0:200000])\n",
    "\n",
    "\n",
    "end = time.clock()\n",
    "print('total training time: %s' % (end - start) )\n",
    "\n",
    "pred_train = clf.predict_proba(CV_train_X[0:200000])[:,1]\n",
    "\n",
    "training_roc = roc_auc_score(CV_train_Y[0:200000].values, pred_train)\n",
    "\n",
    "pred_test = clf.predict_proba(CV_test_X)[:,1]\n",
    "\n",
    "test_roc = roc_auc_score(CV_test_Y.values, pred_test)\n",
    "\n",
    "print('training roc : %s' % training_roc)\n",
    "print('test roc : %s' % test_roc)"
   ]
  },
  {
   "cell_type": "markdown",
   "metadata": {},
   "source": [
    "## Training"
   ]
  },
  {
   "cell_type": "code",
   "execution_count": 18,
   "metadata": {
    "collapsed": false
   },
   "outputs": [
    {
     "name": "stdout",
     "output_type": "stream",
     "text": [
      "starting fit\n",
      "total training time: 917.0945500000003\n"
     ]
    }
   ],
   "source": [
    "clf = RandomForestClassifier(n_estimators=100, min_samples_split=50, max_depth=8 )\n",
    "\n",
    "start = time.clock()\n",
    "\n",
    "print('starting fit')\n",
    "#excluding the patient_id column from the fit and prediction\n",
    "clf.fit(CV_train_X, CV_train_Y)\n",
    "\n",
    "\n",
    "end = time.clock()\n",
    "print('total training time: %s' % (end - start) )\n",
    "\n"
   ]
  },
  {
   "cell_type": "markdown",
   "metadata": {},
   "source": [
    "## save model"
   ]
  },
  {
   "cell_type": "code",
   "execution_count": 26,
   "metadata": {
    "collapsed": false
   },
   "outputs": [
    {
     "name": "stdout",
     "output_type": "stream",
     "text": [
      "total saving time: 0.012914999999338761\n"
     ]
    }
   ],
   "source": [
    "##save model\n",
    "\n",
    "start = time.clock()\n",
    "\n",
    "with open('my_dumped_classifier.pkl', 'wb') as fid:\n",
    "    pickle.dump(clf, fid) \n",
    "\n",
    "end = time.clock()\n",
    "print('total saving time: %s' % (end - start) )"
   ]
  },
  {
   "cell_type": "markdown",
   "metadata": {},
   "source": [
    "## load model"
   ]
  },
  {
   "cell_type": "code",
   "execution_count": 28,
   "metadata": {
    "collapsed": false,
    "scrolled": true
   },
   "outputs": [
    {
     "name": "stdout",
     "output_type": "stream",
     "text": [
      "total loading time: 0.007420999999339983\n"
     ]
    }
   ],
   "source": [
    "start = time.clock()\n",
    "\n",
    "# load it again\n",
    "with open('my_dumped_classifier.pkl', 'rb') as fid:\n",
    "    clf = pickle.load(fid)\n",
    "\n",
    "end = time.clock()\n",
    "print('total loading time: %s' % (end - start) )\n",
    "\n"
   ]
  },
  {
   "cell_type": "markdown",
   "metadata": {},
   "source": [
    "## get test set features"
   ]
  },
  {
   "cell_type": "code",
   "execution_count": 53,
   "metadata": {
    "collapsed": false
   },
   "outputs": [],
   "source": [
    "#load test set definitions\n",
    "test_pairs = pd.read_csv(r'/data/test_data/submission_info.csv', index_col= 0)\n",
    "\n",
    "#get features\n",
    "#raw_test_image_info = get_image_info(test_pairs, r'/data/test_data/test')\n",
    "\n",
    "#get raw training data features\n",
    "#raw_test_image_info['bytes_per_pixel'] =raw_test_image_info['size_bytes']/(raw_test_image_info['pixelsx']*raw_test_image_info['pixelsy'])\n",
    "#raw_test_image_info['aspect_ratio'] = raw_test_image_info['pixelsx']/raw_test_image_info['pixelsy']\n",
    "\n",
    "#save raw_train_image_info\n",
    "#raw_test_image_info.to_csv(r'/data/test_data/raw_test_image_info.csv')\n",
    "\n",
    "#load raw_train_image_info\n",
    "#raw_test_image_info = pd.read_csv(r'/data/test_data/raw_test_image_info.csv', index_col = 0)"
   ]
  },
  {
   "cell_type": "markdown",
   "metadata": {},
   "source": [
    "## join test features to test pairs"
   ]
  },
  {
   "cell_type": "code",
   "execution_count": 51,
   "metadata": {
    "collapsed": false
   },
   "outputs": [],
   "source": [
    "def joinFeaturesToPairs(image_info, image_pairs):\n",
    "    #join pair data to image features\n",
    "    trimmed_image_info = image_info[['new_filename',\n",
    "                                     'pixelsx',\n",
    "                                     'pixelsy',\n",
    "                                     'bytes_per_pixel',\n",
    "                                     'aspect_ratio']]\n",
    "    image_pairs = image_pairs.merge(trimmed_image_info,\n",
    "                              left_on='image1', right_on='new_filename')\n",
    "    image_pairs.rename( columns = {'pixelsx': 'pixelsx_1',\n",
    "                        'pixelsy': 'pixelsy_1',\n",
    "                        'bytes_per_pixel' : 'bytes_per_pixel_1',\n",
    "                        'aspect_ratio':'aspect_ratio_1'})\n",
    "    image_pairs = image_pairs.merge(trimmed_image_info,\n",
    "                                    left_on='image2', right_on='new_filename')\n",
    "    train_pairs.rename( columns = {'pixelsx': 'pixelsx_2',\n",
    "                        'pixelsy': 'pixelsy_2',\n",
    "                        'bytes_per_pixel' : 'bytes_per_pixel_2',\n",
    "                        'aspect_ratio':'aspect_ratio_2'})\n",
    "    return train_pairs\n",
    "\n",
    "test_pairs_final = joinFeaturesToPairs(raw_test_image_info, test_pairs)"
   ]
  },
  {
   "cell_type": "markdown",
   "metadata": {},
   "source": [
    "## test on test set"
   ]
  },
  {
   "cell_type": "code",
   "execution_count": 24,
   "metadata": {
    "collapsed": false
   },
   "outputs": [
    {
     "data": {
      "text/plain": [
       "['mymodel.pkl',\n",
       " 'mymodel.pkl_01.npy',\n",
       " 'mymodel.pkl_02.npy',\n",
       " 'mymodel.pkl_03.npy',\n",
       " 'mymodel.pkl_04.npy',\n",
       " 'mymodel.pkl_05.npy',\n",
       " 'mymodel.pkl_06.npy',\n",
       " 'mymodel.pkl_07.npy',\n",
       " 'mymodel.pkl_08.npy',\n",
       " 'mymodel.pkl_09.npy',\n",
       " 'mymodel.pkl_10.npy',\n",
       " 'mymodel.pkl_11.npy',\n",
       " 'mymodel.pkl_12.npy',\n",
       " 'mymodel.pkl_13.npy',\n",
       " 'mymodel.pkl_14.npy',\n",
       " 'mymodel.pkl_15.npy',\n",
       " 'mymodel.pkl_16.npy',\n",
       " 'mymodel.pkl_17.npy',\n",
       " 'mymodel.pkl_18.npy',\n",
       " 'mymodel.pkl_19.npy',\n",
       " 'mymodel.pkl_20.npy',\n",
       " 'mymodel.pkl_21.npy',\n",
       " 'mymodel.pkl_22.npy',\n",
       " 'mymodel.pkl_23.npy',\n",
       " 'mymodel.pkl_24.npy',\n",
       " 'mymodel.pkl_25.npy',\n",
       " 'mymodel.pkl_26.npy',\n",
       " 'mymodel.pkl_27.npy',\n",
       " 'mymodel.pkl_28.npy',\n",
       " 'mymodel.pkl_29.npy',\n",
       " 'mymodel.pkl_30.npy',\n",
       " 'mymodel.pkl_31.npy',\n",
       " 'mymodel.pkl_32.npy',\n",
       " 'mymodel.pkl_33.npy',\n",
       " 'mymodel.pkl_34.npy',\n",
       " 'mymodel.pkl_35.npy',\n",
       " 'mymodel.pkl_36.npy',\n",
       " 'mymodel.pkl_37.npy',\n",
       " 'mymodel.pkl_38.npy',\n",
       " 'mymodel.pkl_39.npy',\n",
       " 'mymodel.pkl_40.npy',\n",
       " 'mymodel.pkl_41.npy',\n",
       " 'mymodel.pkl_42.npy',\n",
       " 'mymodel.pkl_43.npy',\n",
       " 'mymodel.pkl_44.npy',\n",
       " 'mymodel.pkl_45.npy',\n",
       " 'mymodel.pkl_46.npy',\n",
       " 'mymodel.pkl_47.npy',\n",
       " 'mymodel.pkl_48.npy',\n",
       " 'mymodel.pkl_49.npy',\n",
       " 'mymodel.pkl_50.npy',\n",
       " 'mymodel.pkl_51.npy',\n",
       " 'mymodel.pkl_52.npy',\n",
       " 'mymodel.pkl_53.npy',\n",
       " 'mymodel.pkl_54.npy',\n",
       " 'mymodel.pkl_55.npy',\n",
       " 'mymodel.pkl_56.npy',\n",
       " 'mymodel.pkl_57.npy',\n",
       " 'mymodel.pkl_58.npy',\n",
       " 'mymodel.pkl_59.npy',\n",
       " 'mymodel.pkl_60.npy',\n",
       " 'mymodel.pkl_61.npy',\n",
       " 'mymodel.pkl_62.npy',\n",
       " 'mymodel.pkl_63.npy',\n",
       " 'mymodel.pkl_64.npy',\n",
       " 'mymodel.pkl_65.npy',\n",
       " 'mymodel.pkl_66.npy',\n",
       " 'mymodel.pkl_67.npy',\n",
       " 'mymodel.pkl_68.npy',\n",
       " 'mymodel.pkl_69.npy',\n",
       " 'mymodel.pkl_70.npy',\n",
       " 'mymodel.pkl_71.npy',\n",
       " 'mymodel.pkl_72.npy',\n",
       " 'mymodel.pkl_73.npy',\n",
       " 'mymodel.pkl_74.npy',\n",
       " 'mymodel.pkl_75.npy',\n",
       " 'mymodel.pkl_76.npy',\n",
       " 'mymodel.pkl_77.npy',\n",
       " 'mymodel.pkl_78.npy',\n",
       " 'mymodel.pkl_79.npy',\n",
       " 'mymodel.pkl_80.npy',\n",
       " 'mymodel.pkl_81.npy',\n",
       " 'mymodel.pkl_82.npy',\n",
       " 'mymodel.pkl_83.npy',\n",
       " 'mymodel.pkl_84.npy',\n",
       " 'mymodel.pkl_85.npy',\n",
       " 'mymodel.pkl_86.npy',\n",
       " 'mymodel.pkl_87.npy',\n",
       " 'mymodel.pkl_88.npy',\n",
       " 'mymodel.pkl_89.npy',\n",
       " 'mymodel.pkl_90.npy',\n",
       " 'mymodel.pkl_91.npy',\n",
       " 'mymodel.pkl_92.npy',\n",
       " 'mymodel.pkl_93.npy',\n",
       " 'mymodel.pkl_94.npy',\n",
       " 'mymodel.pkl_95.npy',\n",
       " 'mymodel.pkl_96.npy',\n",
       " 'mymodel.pkl_97.npy',\n",
       " 'mymodel.pkl_98.npy',\n",
       " 'mymodel.pkl_99.npy',\n",
       " 'mymodel.pkl_100.npy',\n",
       " 'mymodel.pkl_101.npy',\n",
       " 'mymodel.pkl_102.npy',\n",
       " 'mymodel.pkl_103.npy',\n",
       " 'mymodel.pkl_104.npy',\n",
       " 'mymodel.pkl_105.npy',\n",
       " 'mymodel.pkl_106.npy',\n",
       " 'mymodel.pkl_107.npy',\n",
       " 'mymodel.pkl_108.npy',\n",
       " 'mymodel.pkl_109.npy',\n",
       " 'mymodel.pkl_110.npy',\n",
       " 'mymodel.pkl_111.npy',\n",
       " 'mymodel.pkl_112.npy',\n",
       " 'mymodel.pkl_113.npy',\n",
       " 'mymodel.pkl_114.npy',\n",
       " 'mymodel.pkl_115.npy',\n",
       " 'mymodel.pkl_116.npy',\n",
       " 'mymodel.pkl_117.npy',\n",
       " 'mymodel.pkl_118.npy',\n",
       " 'mymodel.pkl_119.npy',\n",
       " 'mymodel.pkl_120.npy',\n",
       " 'mymodel.pkl_121.npy',\n",
       " 'mymodel.pkl_122.npy',\n",
       " 'mymodel.pkl_123.npy',\n",
       " 'mymodel.pkl_124.npy',\n",
       " 'mymodel.pkl_125.npy',\n",
       " 'mymodel.pkl_126.npy',\n",
       " 'mymodel.pkl_127.npy',\n",
       " 'mymodel.pkl_128.npy',\n",
       " 'mymodel.pkl_129.npy',\n",
       " 'mymodel.pkl_130.npy',\n",
       " 'mymodel.pkl_131.npy',\n",
       " 'mymodel.pkl_132.npy',\n",
       " 'mymodel.pkl_133.npy',\n",
       " 'mymodel.pkl_134.npy',\n",
       " 'mymodel.pkl_135.npy',\n",
       " 'mymodel.pkl_136.npy',\n",
       " 'mymodel.pkl_137.npy',\n",
       " 'mymodel.pkl_138.npy',\n",
       " 'mymodel.pkl_139.npy',\n",
       " 'mymodel.pkl_140.npy',\n",
       " 'mymodel.pkl_141.npy',\n",
       " 'mymodel.pkl_142.npy',\n",
       " 'mymodel.pkl_143.npy',\n",
       " 'mymodel.pkl_144.npy',\n",
       " 'mymodel.pkl_145.npy',\n",
       " 'mymodel.pkl_146.npy',\n",
       " 'mymodel.pkl_147.npy',\n",
       " 'mymodel.pkl_148.npy',\n",
       " 'mymodel.pkl_149.npy',\n",
       " 'mymodel.pkl_150.npy',\n",
       " 'mymodel.pkl_151.npy',\n",
       " 'mymodel.pkl_152.npy',\n",
       " 'mymodel.pkl_153.npy',\n",
       " 'mymodel.pkl_154.npy',\n",
       " 'mymodel.pkl_155.npy',\n",
       " 'mymodel.pkl_156.npy',\n",
       " 'mymodel.pkl_157.npy',\n",
       " 'mymodel.pkl_158.npy',\n",
       " 'mymodel.pkl_159.npy',\n",
       " 'mymodel.pkl_160.npy',\n",
       " 'mymodel.pkl_161.npy',\n",
       " 'mymodel.pkl_162.npy',\n",
       " 'mymodel.pkl_163.npy',\n",
       " 'mymodel.pkl_164.npy',\n",
       " 'mymodel.pkl_165.npy',\n",
       " 'mymodel.pkl_166.npy',\n",
       " 'mymodel.pkl_167.npy',\n",
       " 'mymodel.pkl_168.npy',\n",
       " 'mymodel.pkl_169.npy',\n",
       " 'mymodel.pkl_170.npy',\n",
       " 'mymodel.pkl_171.npy',\n",
       " 'mymodel.pkl_172.npy',\n",
       " 'mymodel.pkl_173.npy',\n",
       " 'mymodel.pkl_174.npy',\n",
       " 'mymodel.pkl_175.npy',\n",
       " 'mymodel.pkl_176.npy',\n",
       " 'mymodel.pkl_177.npy',\n",
       " 'mymodel.pkl_178.npy',\n",
       " 'mymodel.pkl_179.npy',\n",
       " 'mymodel.pkl_180.npy',\n",
       " 'mymodel.pkl_181.npy',\n",
       " 'mymodel.pkl_182.npy',\n",
       " 'mymodel.pkl_183.npy',\n",
       " 'mymodel.pkl_184.npy',\n",
       " 'mymodel.pkl_185.npy',\n",
       " 'mymodel.pkl_186.npy',\n",
       " 'mymodel.pkl_187.npy',\n",
       " 'mymodel.pkl_188.npy',\n",
       " 'mymodel.pkl_189.npy',\n",
       " 'mymodel.pkl_190.npy',\n",
       " 'mymodel.pkl_191.npy',\n",
       " 'mymodel.pkl_192.npy',\n",
       " 'mymodel.pkl_193.npy',\n",
       " 'mymodel.pkl_194.npy',\n",
       " 'mymodel.pkl_195.npy',\n",
       " 'mymodel.pkl_196.npy',\n",
       " 'mymodel.pkl_197.npy',\n",
       " 'mymodel.pkl_198.npy',\n",
       " 'mymodel.pkl_199.npy',\n",
       " 'mymodel.pkl_200.npy',\n",
       " 'mymodel.pkl_201.npy',\n",
       " 'mymodel.pkl_202.npy',\n",
       " 'mymodel.pkl_203.npy',\n",
       " 'mymodel.pkl_204.npy',\n",
       " 'mymodel.pkl_205.npy',\n",
       " 'mymodel.pkl_206.npy',\n",
       " 'mymodel.pkl_207.npy',\n",
       " 'mymodel.pkl_208.npy',\n",
       " 'mymodel.pkl_209.npy',\n",
       " 'mymodel.pkl_210.npy',\n",
       " 'mymodel.pkl_211.npy',\n",
       " 'mymodel.pkl_212.npy',\n",
       " 'mymodel.pkl_213.npy',\n",
       " 'mymodel.pkl_214.npy',\n",
       " 'mymodel.pkl_215.npy',\n",
       " 'mymodel.pkl_216.npy',\n",
       " 'mymodel.pkl_217.npy',\n",
       " 'mymodel.pkl_218.npy',\n",
       " 'mymodel.pkl_219.npy',\n",
       " 'mymodel.pkl_220.npy',\n",
       " 'mymodel.pkl_221.npy',\n",
       " 'mymodel.pkl_222.npy',\n",
       " 'mymodel.pkl_223.npy',\n",
       " 'mymodel.pkl_224.npy',\n",
       " 'mymodel.pkl_225.npy',\n",
       " 'mymodel.pkl_226.npy',\n",
       " 'mymodel.pkl_227.npy',\n",
       " 'mymodel.pkl_228.npy',\n",
       " 'mymodel.pkl_229.npy',\n",
       " 'mymodel.pkl_230.npy',\n",
       " 'mymodel.pkl_231.npy',\n",
       " 'mymodel.pkl_232.npy',\n",
       " 'mymodel.pkl_233.npy',\n",
       " 'mymodel.pkl_234.npy',\n",
       " 'mymodel.pkl_235.npy',\n",
       " 'mymodel.pkl_236.npy',\n",
       " 'mymodel.pkl_237.npy',\n",
       " 'mymodel.pkl_238.npy',\n",
       " 'mymodel.pkl_239.npy',\n",
       " 'mymodel.pkl_240.npy',\n",
       " 'mymodel.pkl_241.npy',\n",
       " 'mymodel.pkl_242.npy',\n",
       " 'mymodel.pkl_243.npy',\n",
       " 'mymodel.pkl_244.npy',\n",
       " 'mymodel.pkl_245.npy',\n",
       " 'mymodel.pkl_246.npy',\n",
       " 'mymodel.pkl_247.npy',\n",
       " 'mymodel.pkl_248.npy',\n",
       " 'mymodel.pkl_249.npy',\n",
       " 'mymodel.pkl_250.npy',\n",
       " 'mymodel.pkl_251.npy',\n",
       " 'mymodel.pkl_252.npy',\n",
       " 'mymodel.pkl_253.npy',\n",
       " 'mymodel.pkl_254.npy',\n",
       " 'mymodel.pkl_255.npy',\n",
       " 'mymodel.pkl_256.npy',\n",
       " 'mymodel.pkl_257.npy',\n",
       " 'mymodel.pkl_258.npy',\n",
       " 'mymodel.pkl_259.npy',\n",
       " 'mymodel.pkl_260.npy',\n",
       " 'mymodel.pkl_261.npy',\n",
       " 'mymodel.pkl_262.npy',\n",
       " 'mymodel.pkl_263.npy',\n",
       " 'mymodel.pkl_264.npy',\n",
       " 'mymodel.pkl_265.npy',\n",
       " 'mymodel.pkl_266.npy',\n",
       " 'mymodel.pkl_267.npy',\n",
       " 'mymodel.pkl_268.npy',\n",
       " 'mymodel.pkl_269.npy',\n",
       " 'mymodel.pkl_270.npy',\n",
       " 'mymodel.pkl_271.npy',\n",
       " 'mymodel.pkl_272.npy',\n",
       " 'mymodel.pkl_273.npy',\n",
       " 'mymodel.pkl_274.npy',\n",
       " 'mymodel.pkl_275.npy',\n",
       " 'mymodel.pkl_276.npy',\n",
       " 'mymodel.pkl_277.npy',\n",
       " 'mymodel.pkl_278.npy',\n",
       " 'mymodel.pkl_279.npy',\n",
       " 'mymodel.pkl_280.npy',\n",
       " 'mymodel.pkl_281.npy',\n",
       " 'mymodel.pkl_282.npy',\n",
       " 'mymodel.pkl_283.npy',\n",
       " 'mymodel.pkl_284.npy',\n",
       " 'mymodel.pkl_285.npy',\n",
       " 'mymodel.pkl_286.npy',\n",
       " 'mymodel.pkl_287.npy',\n",
       " 'mymodel.pkl_288.npy',\n",
       " 'mymodel.pkl_289.npy',\n",
       " 'mymodel.pkl_290.npy',\n",
       " 'mymodel.pkl_291.npy',\n",
       " 'mymodel.pkl_292.npy',\n",
       " 'mymodel.pkl_293.npy',\n",
       " 'mymodel.pkl_294.npy',\n",
       " 'mymodel.pkl_295.npy',\n",
       " 'mymodel.pkl_296.npy',\n",
       " 'mymodel.pkl_297.npy',\n",
       " 'mymodel.pkl_298.npy',\n",
       " 'mymodel.pkl_299.npy',\n",
       " 'mymodel.pkl_300.npy',\n",
       " 'mymodel.pkl_301.npy',\n",
       " 'mymodel.pkl_302.npy',\n",
       " 'mymodel.pkl_303.npy',\n",
       " 'mymodel.pkl_304.npy',\n",
       " 'mymodel.pkl_305.npy',\n",
       " 'mymodel.pkl_306.npy',\n",
       " 'mymodel.pkl_307.npy',\n",
       " 'mymodel.pkl_308.npy',\n",
       " 'mymodel.pkl_309.npy',\n",
       " 'mymodel.pkl_310.npy',\n",
       " 'mymodel.pkl_311.npy',\n",
       " 'mymodel.pkl_312.npy',\n",
       " 'mymodel.pkl_313.npy',\n",
       " 'mymodel.pkl_314.npy',\n",
       " 'mymodel.pkl_315.npy',\n",
       " 'mymodel.pkl_316.npy',\n",
       " 'mymodel.pkl_317.npy',\n",
       " 'mymodel.pkl_318.npy',\n",
       " 'mymodel.pkl_319.npy',\n",
       " 'mymodel.pkl_320.npy',\n",
       " 'mymodel.pkl_321.npy',\n",
       " 'mymodel.pkl_322.npy',\n",
       " 'mymodel.pkl_323.npy',\n",
       " 'mymodel.pkl_324.npy',\n",
       " 'mymodel.pkl_325.npy',\n",
       " 'mymodel.pkl_326.npy',\n",
       " 'mymodel.pkl_327.npy',\n",
       " 'mymodel.pkl_328.npy',\n",
       " 'mymodel.pkl_329.npy',\n",
       " 'mymodel.pkl_330.npy',\n",
       " 'mymodel.pkl_331.npy',\n",
       " 'mymodel.pkl_332.npy',\n",
       " 'mymodel.pkl_333.npy',\n",
       " 'mymodel.pkl_334.npy',\n",
       " 'mymodel.pkl_335.npy',\n",
       " 'mymodel.pkl_336.npy',\n",
       " 'mymodel.pkl_337.npy',\n",
       " 'mymodel.pkl_338.npy',\n",
       " 'mymodel.pkl_339.npy',\n",
       " 'mymodel.pkl_340.npy',\n",
       " 'mymodel.pkl_341.npy',\n",
       " 'mymodel.pkl_342.npy',\n",
       " 'mymodel.pkl_343.npy',\n",
       " 'mymodel.pkl_344.npy',\n",
       " 'mymodel.pkl_345.npy',\n",
       " 'mymodel.pkl_346.npy',\n",
       " 'mymodel.pkl_347.npy',\n",
       " 'mymodel.pkl_348.npy',\n",
       " 'mymodel.pkl_349.npy',\n",
       " 'mymodel.pkl_350.npy',\n",
       " 'mymodel.pkl_351.npy',\n",
       " 'mymodel.pkl_352.npy',\n",
       " 'mymodel.pkl_353.npy',\n",
       " 'mymodel.pkl_354.npy',\n",
       " 'mymodel.pkl_355.npy',\n",
       " 'mymodel.pkl_356.npy',\n",
       " 'mymodel.pkl_357.npy',\n",
       " 'mymodel.pkl_358.npy',\n",
       " 'mymodel.pkl_359.npy',\n",
       " 'mymodel.pkl_360.npy',\n",
       " 'mymodel.pkl_361.npy',\n",
       " 'mymodel.pkl_362.npy',\n",
       " 'mymodel.pkl_363.npy',\n",
       " 'mymodel.pkl_364.npy',\n",
       " 'mymodel.pkl_365.npy',\n",
       " 'mymodel.pkl_366.npy',\n",
       " 'mymodel.pkl_367.npy',\n",
       " 'mymodel.pkl_368.npy',\n",
       " 'mymodel.pkl_369.npy',\n",
       " 'mymodel.pkl_370.npy',\n",
       " 'mymodel.pkl_371.npy',\n",
       " 'mymodel.pkl_372.npy',\n",
       " 'mymodel.pkl_373.npy',\n",
       " 'mymodel.pkl_374.npy',\n",
       " 'mymodel.pkl_375.npy',\n",
       " 'mymodel.pkl_376.npy',\n",
       " 'mymodel.pkl_377.npy',\n",
       " 'mymodel.pkl_378.npy',\n",
       " 'mymodel.pkl_379.npy',\n",
       " 'mymodel.pkl_380.npy',\n",
       " 'mymodel.pkl_381.npy',\n",
       " 'mymodel.pkl_382.npy',\n",
       " 'mymodel.pkl_383.npy',\n",
       " 'mymodel.pkl_384.npy',\n",
       " 'mymodel.pkl_385.npy',\n",
       " 'mymodel.pkl_386.npy',\n",
       " 'mymodel.pkl_387.npy',\n",
       " 'mymodel.pkl_388.npy',\n",
       " 'mymodel.pkl_389.npy',\n",
       " 'mymodel.pkl_390.npy',\n",
       " 'mymodel.pkl_391.npy',\n",
       " 'mymodel.pkl_392.npy',\n",
       " 'mymodel.pkl_393.npy',\n",
       " 'mymodel.pkl_394.npy',\n",
       " 'mymodel.pkl_395.npy',\n",
       " 'mymodel.pkl_396.npy',\n",
       " 'mymodel.pkl_397.npy',\n",
       " 'mymodel.pkl_398.npy',\n",
       " 'mymodel.pkl_399.npy',\n",
       " 'mymodel.pkl_400.npy',\n",
       " 'mymodel.pkl_401.npy']"
      ]
     },
     "execution_count": 24,
     "metadata": {},
     "output_type": "execute_result"
    }
   ],
   "source": [
    "test_predictions = clf.pred(test_pairs_final)"
   ]
  },
  {
   "cell_type": "markdown",
   "metadata": {},
   "source": [
    " ## prepare submission\n",
    "    "
   ]
  },
  {
   "cell_type": "code",
   "execution_count": null,
   "metadata": {
    "collapsed": true
   },
   "outputs": [],
   "source": [
    "submission = submission_info[['index']]\n",
    "submission['sameArtist'] = y_pred\n",
    "submission.to_csv('submission.csv', index=False)"
   ]
  },
  {
   "cell_type": "markdown",
   "metadata": {},
   "source": [
    "## scratch"
   ]
  },
  {
   "cell_type": "code",
   "execution_count": 28,
   "metadata": {
    "collapsed": false
   },
   "outputs": [
    {
     "data": {
      "image/jpeg": "[encoded data removed]",
      "text/plain": [
       "<IPython.core.display.Image object>"
      ]
     },
     "execution_count": 28,
     "metadata": {
      "image/jpeg": {
       "width": 300
      }
     },
     "output_type": "execute_result"
    }
   ],
   "source": [
    "Image(filename = r\"/data/training_data/train/95847.jpg\", width=300)"
   ]
  },
  {
   "cell_type": "code",
   "execution_count": 26,
   "metadata": {
    "collapsed": false
   },
   "outputs": [
    {
     "data": {
      "text/plain": [
       "artist1              56221362cba30b7e0c96111cc38c5fcd\n",
       "image1                                      95847.jpg\n",
       "artist2              56221362cba30b7e0c96111cc38c5fcd\n",
       "image2                                      18646.jpg\n",
       "sameArtist                                       True\n",
       "new_filename_x                              95847.jpg\n",
       "pixelsx_1                                         800\n",
       "pixelsy_1                                         462\n",
       "bytes_per_pixel_1                            0.376856\n",
       "aspect_ratio_1                                 1.7316\n",
       "new_filename_y                              18646.jpg\n",
       "pixelsx_2                                         725\n",
       "pixelsy_2                                         800\n",
       "bytes_per_pixel_2                            0.483307\n",
       "aspect_ratio_2                                0.90625\n",
       "Name: 100000, dtype: object"
      ]
     },
     "execution_count": 26,
     "metadata": {},
     "output_type": "execute_result"
    }
   ],
   "source": [
    "train_pairs.iloc[100000]"
   ]
  },
  {
   "cell_type": "code",
   "execution_count": 19,
   "metadata": {
    "collapsed": false
   },
   "outputs": [
    {
     "data": {
      "text/plain": [
       "array([  5.88930182e-05,   9.70519969e-05,   4.30022404e-04, ...,\n",
       "         4.43788020e-04,   7.79837687e-03,   5.50017712e-04])"
      ]
     },
     "execution_count": 19,
     "metadata": {},
     "output_type": "execute_result"
    }
   ],
   "source": []
  },
  {
   "cell_type": "code",
   "execution_count": null,
   "metadata": {
    "collapsed": true
   },
   "outputs": [],
   "source": [
    "### perform 5-fold cross validation\n",
    "\n",
    "# shuffle rows\n",
    "# train_pairs = train_pairs.iloc[np.random.permutation(len(train_pairs))]\n",
    "\n",
    "# for cv_num in range(0,5):\n",
    "#     len(train_pairs)/5 = chunkSize\n",
    "#     if cv_num > 0:\n",
    "#         test_start = i*chunkSize\n",
    "#         test_end = (i+1)*chunkSize\n",
    "#         train_start\n",
    "#         train_end\n",
    "#split training examples into 5 groups\n",
    "\n",
    "\n",
    "#split training examples into CV_Train_X and CV_Train_Y, also create CV_Test"
   ]
  }
 ],
 "metadata": {
  "anaconda-cloud": {},
  "kernelspec": {
   "display_name": "Python [Root]",
   "language": "python",
   "name": "Python [Root]"
  },
  "language_info": {
   "codemirror_mode": {
    "name": "ipython",
    "version": 3
   },
   "file_extension": ".py",
   "mimetype": "text/x-python",
   "name": "python",
   "nbconvert_exporter": "python",
   "pygments_lexer": "ipython3",
   "version": "3.5.2"
  }
 },
 "nbformat": 4,
 "nbformat_minor": 0
}
