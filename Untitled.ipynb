{
 "cells": [
  {
   "cell_type": "code",
   "execution_count": 2,
   "metadata": {
    "collapsed": true
   },
   "outputs": [],
   "source": [
    "import time\n",
    "import datetime"
   ]
  },
  {
   "cell_type": "code",
   "execution_count": 3,
   "metadata": {
    "collapsed": true
   },
   "outputs": [],
   "source": [
    "def work(x):\n",
    "    start_time = time.time()\n",
    "    # Our work takes x seconds\n",
    "    time.sleep(x)\n",
    "    end_time = time.time()\n",
    "    return {'start': start_time, 'end_time': end_time}"
   ]
  },
  {
   "cell_type": "code",
   "execution_count": 4,
   "metadata": {
    "collapsed": true
   },
   "outputs": [],
   "source": [
    "import numpy as np"
   ]
  },
  {
   "cell_type": "code",
   "execution_count": 21,
   "metadata": {
    "collapsed": false
   },
   "outputs": [
    {
     "data": {
      "text/plain": [
       "array([ 0.87727815,  0.76754622,  0.73608569,  0.87990511,  0.95484596])"
      ]
     },
     "execution_count": 21,
     "metadata": {},
     "output_type": "execute_result"
    }
   ],
   "source": [
    "np.random.seed(1045)\n",
    "job_times = np.random.uniform(0.5, 1.0, 5)\n",
    "job_times"
   ]
  },
  {
   "cell_type": "code",
   "execution_count": 25,
   "metadata": {
    "collapsed": false
   },
   "outputs": [
    {
     "name": "stdout",
     "output_type": "stream",
     "text": [
      "4.220346927642822\n",
      "4.21566113249\n"
     ]
    }
   ],
   "source": [
    "results = []\n",
    "for t in job_times:\n",
    "    results.append(work(t))\n",
    "\n",
    "total = 0.0\n",
    "\n",
    "for result in results:\n",
    "    total += result['end_time'] - result['start']\n",
    "    \n",
    "print(total)\n",
    "print(sum(job_times))"
   ]
  },
  {
   "cell_type": "code",
   "execution_count": 30,
   "metadata": {
    "collapsed": false
   },
   "outputs": [
    {
     "data": {
      "text/plain": [
       "[{'end_time': 1476228151.4809506, 'start': 1476228150.602692},\n",
       " {'end_time': 1476228152.2493744, 'start': 1476228151.480965},\n",
       " {'end_time': 1476228152.9862702, 'start': 1476228152.2493992},\n",
       " {'end_time': 1476228153.8672206, 'start': 1476228152.9862776},\n",
       " {'end_time': 1476228154.8231263, 'start': 1476228153.8672328}]"
      ]
     },
     "execution_count": 30,
     "metadata": {},
     "output_type": "execute_result"
    }
   ],
   "source": [
    "results = map(work, job_times)\n",
    "real_results = list(results)\n",
    "real_results"
   ]
  },
  {
   "cell_type": "code",
   "execution_count": 31,
   "metadata": {
    "collapsed": false
   },
   "outputs": [
    {
     "name": "stdout",
     "output_type": "stream",
     "text": [
      "14.020523309707642\n"
     ]
    }
   ],
   "source": [
    "tic = time.time()\n",
    "\n",
    "# Create job list\n",
    "np.random.seed(1045)\n",
    "job_times = np.random.uniform(0.8, 1.2, 12)\n",
    "\n",
    "# do something else\n",
    "time.sleep(1)\n",
    "\n",
    "# Call the map function\n",
    "results = map(work, job_times)\n",
    "real_results = list(results)\n",
    "\n",
    "# Wrap up\n",
    "time.sleep(1)\n",
    "\n",
    "print(time.time() - tic)"
   ]
  },
  {
   "cell_type": "code",
   "execution_count": 32,
   "metadata": {
    "collapsed": true
   },
   "outputs": [],
   "source": [
    "import multiprocessing"
   ]
  },
  {
   "cell_type": "code",
   "execution_count": 33,
   "metadata": {
    "collapsed": false
   },
   "outputs": [
    {
     "data": {
      "text/plain": [
       "4"
      ]
     },
     "execution_count": 33,
     "metadata": {},
     "output_type": "execute_result"
    }
   ],
   "source": [
    "num_cores = multiprocessing.cpu_count()\n",
    "num_cores"
   ]
  },
  {
   "cell_type": "code",
   "execution_count": 34,
   "metadata": {
    "collapsed": true
   },
   "outputs": [],
   "source": [
    "pool = multiprocessing.Pool(num_cores)"
   ]
  },
  {
   "cell_type": "code",
   "execution_count": 37,
   "metadata": {
    "collapsed": false
   },
   "outputs": [
    {
     "name": "stdout",
     "output_type": "stream",
     "text": [
      "3.3068220615386963\n"
     ]
    }
   ],
   "source": [
    "tic = time.time()\n",
    "results = pool.map(work,job_times)\n",
    "print(time.time() - tic)"
   ]
  }
 ],
 "metadata": {
  "anaconda-cloud": {},
  "kernelspec": {
   "display_name": "Python [Root]",
   "language": "python",
   "name": "Python [Root]"
  },
  "language_info": {
   "codemirror_mode": {
    "name": "ipython",
    "version": 3
   },
   "file_extension": ".py",
   "mimetype": "text/x-python",
   "name": "python",
   "nbconvert_exporter": "python",
   "pygments_lexer": "ipython3",
   "version": "3.5.2"
  }
 },
 "nbformat": 4,
 "nbformat_minor": 0
}
